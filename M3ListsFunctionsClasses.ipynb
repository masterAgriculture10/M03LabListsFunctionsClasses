{
 "cells": [
  {
   "cell_type": "code",
   "execution_count": null,
   "metadata": {},
   "outputs": [],
   "source": [
    "class Vehicle():\n",
    "    car = []\n",
    "    def __init__(self, car):\n",
    "        self.car = car\n",
    "    def type(self):\n",
    "        for car in self.car:\n",
    "            print(car.type())\n",
    "\n",
    "class Automobile():\n",
    "    is_reliable = True\n",
    "    def __init__(self, year, make, model, doors, roof):\n",
    "        self.year = year\n",
    "        self.make = make\n",
    "        self.model = model\n",
    "        self.doors = doors\n",
    "        self.roof\n",
    "    def type(self):\n",
    "        return f'{car.type}'\n",
    "\n",
    "class Toyota(Automobile):\n",
    "    def engine(self, speed):\n",
    "        return f'{speed}'\n",
    "\n",
    "toyota = Toyota('2022', 'Toyota', 'Wagon', '4Door', 'SunRoof')\n",
    "my_automobile = [toyota]\n",
    "\n",
    "my_vehicle = Vehicle(my_automobile) \n",
    "\n",
    "my_vehicle.type()"
   ]
  }
 ],
 "metadata": {
  "language_info": {
   "name": "python"
  },
  "orig_nbformat": 4
 },
 "nbformat": 4,
 "nbformat_minor": 2
}
